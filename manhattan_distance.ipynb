{
 "cells": [
  {
   "cell_type": "code",
   "execution_count": null,
   "id": "d3248b04",
   "metadata": {
    "lines_to_next_cell": 1
   },
   "outputs": [],
   "source": [
    "def manhattan_distance(x, y):\n",
    "    if len(x) != len(y):\n",
    "        raise ValueError(\"Both objects must have the same number of attributes\")\n",
    "\n",
    "    distances = [abs(a - b) for a, b in zip(x, y)]\n",
    "    distance = sum(distances)\n",
    "    return distance"
   ]
  },
  {
   "cell_type": "code",
   "execution_count": null,
   "id": "b4eccdec",
   "metadata": {},
   "outputs": [],
   "source": [
    "obj1 = [0, 3, 4, 5]\n",
    "obj2 = [7, 6, 3, -1]"
   ]
  },
  {
   "cell_type": "code",
   "execution_count": null,
   "id": "2d3274a0",
   "metadata": {},
   "outputs": [],
   "source": [
    "distance = manhattan_distance(obj1, obj2)\n",
    "print(f\"The Manhattan distance between obj1 and obj2 is: {distance}\")"
   ]
  }
 ],
 "metadata": {
  "jupytext": {
   "cell_metadata_filter": "-all",
   "main_language": "python",
   "notebook_metadata_filter": "-all"
  }
 },
 "nbformat": 4,
 "nbformat_minor": 5
}
