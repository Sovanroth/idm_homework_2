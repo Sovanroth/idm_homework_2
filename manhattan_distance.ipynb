{
 "cells": [
  {
   "cell_type": "code",
   "execution_count": 1,
   "id": "d3248b04",
   "metadata": {
    "lines_to_next_cell": 1
   },
   "outputs": [],
   "source": [
    "def manhattan_distance(x, y):\n",
    "    if len(x) != len(y):\n",
    "        raise ValueError(\"Both objects must have the same number of attributes\")\n",
    "\n",
    "    distances = [abs(a - b) for a, b in zip(x, y)]\n",
    "    distance = sum(distances)\n",
    "    return distance"
   ]
  },
  {
   "cell_type": "code",
   "execution_count": 2,
   "id": "b4eccdec",
   "metadata": {},
   "outputs": [],
   "source": [
    "obj1 = [0, 3, 4, 5]\n",
    "obj2 = [7, 6, 3, -1]"
   ]
  },
  {
   "cell_type": "code",
   "execution_count": 3,
   "id": "2d3274a0",
   "metadata": {},
   "outputs": [
    {
     "name": "stdout",
     "output_type": "stream",
     "text": [
      "The Manhattan distance between obj1 and obj2 is: 17\n"
     ]
    }
   ],
   "source": [
    "distance = manhattan_distance(obj1, obj2)\n",
    "print(f\"The Manhattan distance between obj1 and obj2 is: {distance}\")"
   ]
  }
 ],
 "metadata": {
  "jupytext": {
   "cell_metadata_filter": "-all",
   "main_language": "python",
   "notebook_metadata_filter": "-all"
  },
  "kernelspec": {
   "display_name": "Python 3",
   "language": "python",
   "name": "python3"
  },
  "language_info": {
   "codemirror_mode": {
    "name": "ipython",
    "version": 3
   },
   "file_extension": ".py",
   "mimetype": "text/x-python",
   "name": "python",
   "nbconvert_exporter": "python",
   "pygments_lexer": "ipython3",
   "version": "3.11.5"
  }
 },
 "nbformat": 4,
 "nbformat_minor": 5
}
