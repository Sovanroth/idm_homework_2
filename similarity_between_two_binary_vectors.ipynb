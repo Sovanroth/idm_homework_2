{
 "cells": [
  {
   "cell_type": "code",
   "execution_count": null,
   "id": "f714408d",
   "metadata": {
    "lines_to_next_cell": 1
   },
   "outputs": [],
   "source": [
    "def simple_matching_coef(x, y):\n",
    "    if len(x) != len(y):\n",
    "        raise ValueError(\"Both vectors must have the same length\")\n",
    "\n",
    "    matching_elements = sum(a == b for a, b in zip(x, y))\n",
    "    total_elements = len(x)\n",
    "\n",
    "    similarity = matching_elements / total_elements\n",
    "    return similarity"
   ]
  },
  {
   "cell_type": "code",
   "execution_count": null,
   "id": "36a8ecdf",
   "metadata": {
    "lines_to_next_cell": 1
   },
   "outputs": [],
   "source": [
    "def jaccard_coef(x, y):\n",
    "    if len(x) != len(y):\n",
    "        raise ValueError(\"Both vectors must have the same length\")\n",
    "\n",
    "    intersection_size = sum(a and b for a, b in zip(x, y))\n",
    "    union_size = sum(a or b for a, b in zip(x, y))\n",
    "\n",
    "    similarity = intersection_size / union_size if union_size != 0 else 0\n",
    "    return similarity"
   ]
  },
  {
   "cell_type": "code",
   "execution_count": null,
   "id": "2c2b7074",
   "metadata": {},
   "outputs": [],
   "source": [
    "x = [1, 0, 0, 0, 0, 0, 0, 0, 0, 0]\n",
    "y = [0, 0, 0, 0, 0, 0, 1, 0, 0, 1]"
   ]
  },
  {
   "cell_type": "code",
   "execution_count": null,
   "id": "93efa47a",
   "metadata": {},
   "outputs": [],
   "source": [
    "smc_result = simple_matching_coef(x, y)\n",
    "jc_result = jaccard_coef(x, y)"
   ]
  },
  {
   "cell_type": "code",
   "execution_count": null,
   "id": "e1a46ffd",
   "metadata": {},
   "outputs": [],
   "source": [
    "print(f\"Simple Matching Coefficient: {smc_result}\")\n",
    "print(f\"Jaccard Coefficient: {jc_result}\")"
   ]
  }
 ],
 "metadata": {
  "jupytext": {
   "cell_metadata_filter": "-all",
   "main_language": "python",
   "notebook_metadata_filter": "-all"
  }
 },
 "nbformat": 4,
 "nbformat_minor": 5
}
