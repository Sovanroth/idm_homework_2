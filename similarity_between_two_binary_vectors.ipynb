{
 "cells": [
  {
   "cell_type": "code",
   "execution_count": 1,
   "id": "f714408d",
   "metadata": {
    "lines_to_next_cell": 1
   },
   "outputs": [],
   "source": [
    "def simple_matching_coef(x, y):\n",
    "    if len(x) != len(y):\n",
    "        raise ValueError(\"Both vectors must have the same length\")\n",
    "\n",
    "    matching_elements = sum(a == b for a, b in zip(x, y))\n",
    "    total_elements = len(x)\n",
    "\n",
    "    similarity = matching_elements / total_elements\n",
    "    return similarity"
   ]
  },
  {
   "cell_type": "code",
   "execution_count": 2,
   "id": "36a8ecdf",
   "metadata": {
    "lines_to_next_cell": 1
   },
   "outputs": [],
   "source": [
    "def jaccard_coef(x, y):\n",
    "    if len(x) != len(y):\n",
    "        raise ValueError(\"Both vectors must have the same length\")\n",
    "\n",
    "    intersection_size = sum(a and b for a, b in zip(x, y))\n",
    "    union_size = sum(a or b for a, b in zip(x, y))\n",
    "\n",
    "    similarity = intersection_size / union_size if union_size != 0 else 0\n",
    "    return similarity"
   ]
  },
  {
   "cell_type": "code",
   "execution_count": 3,
   "id": "2c2b7074",
   "metadata": {},
   "outputs": [],
   "source": [
    "x = [1, 0, 0, 0, 0, 0, 0, 0, 0, 0]\n",
    "y = [0, 0, 0, 0, 0, 0, 1, 0, 0, 1]"
   ]
  },
  {
   "cell_type": "code",
   "execution_count": 4,
   "id": "93efa47a",
   "metadata": {},
   "outputs": [],
   "source": [
    "smc_result = simple_matching_coef(x, y)\n",
    "jc_result = jaccard_coef(x, y)"
   ]
  },
  {
   "cell_type": "code",
   "execution_count": 5,
   "id": "e1a46ffd",
   "metadata": {},
   "outputs": [
    {
     "name": "stdout",
     "output_type": "stream",
     "text": [
      "Simple Matching Coefficient: 0.7\n",
      "Jaccard Coefficient: 0.0\n"
     ]
    }
   ],
   "source": [
    "print(f\"Simple Matching Coefficient: {smc_result}\")\n",
    "print(f\"Jaccard Coefficient: {jc_result}\")"
   ]
  }
 ],
 "metadata": {
  "jupytext": {
   "cell_metadata_filter": "-all",
   "main_language": "python",
   "notebook_metadata_filter": "-all"
  },
  "kernelspec": {
   "display_name": "Python 3",
   "language": "python",
   "name": "python3"
  },
  "language_info": {
   "codemirror_mode": {
    "name": "ipython",
    "version": 3
   },
   "file_extension": ".py",
   "mimetype": "text/x-python",
   "name": "python",
   "nbconvert_exporter": "python",
   "pygments_lexer": "ipython3",
   "version": "3.11.5"
  }
 },
 "nbformat": 4,
 "nbformat_minor": 5
}
