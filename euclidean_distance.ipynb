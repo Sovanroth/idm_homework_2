{
 "cells": [
  {
   "cell_type": "code",
   "execution_count": null,
   "id": "64288a02",
   "metadata": {
    "lines_to_next_cell": 1
   },
   "outputs": [],
   "source": [
    "import math"
   ]
  },
  {
   "cell_type": "code",
   "execution_count": null,
   "id": "48286b59",
   "metadata": {
    "lines_to_next_cell": 1
   },
   "outputs": [],
   "source": [
    "def euclidean_distance(x, y):\n",
    "    if len(x) != len(y):\n",
    "        raise ValueError(\"Both objects must have the same number of attributes\")\n",
    "\n",
    "    squared_distances = [(a - b) ** 2 for a, b in zip(x, y)]\n",
    "    sum_of_squares = sum(squared_distances)\n",
    "    distance = math.sqrt(sum_of_squares)\n",
    "    return distance"
   ]
  },
  {
   "cell_type": "code",
   "execution_count": null,
   "id": "2976c4a9",
   "metadata": {},
   "outputs": [],
   "source": [
    "obj1 = [0, 3, 4, 5]\n",
    "obj2 = [7, 6, 3, -1]"
   ]
  },
  {
   "cell_type": "code",
   "execution_count": null,
   "id": "858bfd83",
   "metadata": {},
   "outputs": [],
   "source": [
    "distance = euclidean_distance(obj1, obj2)\n",
    "print(f\"The Euclidean distance between obj1 and obj2 is: {distance}\")"
   ]
  }
 ],
 "metadata": {
  "jupytext": {
   "cell_metadata_filter": "-all",
   "main_language": "python",
   "notebook_metadata_filter": "-all"
  }
 },
 "nbformat": 4,
 "nbformat_minor": 5
}
