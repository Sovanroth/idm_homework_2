{
 "cells": [
  {
   "cell_type": "code",
   "execution_count": null,
   "id": "e9b79536",
   "metadata": {
    "lines_to_next_cell": 1
   },
   "outputs": [],
   "source": [
    "import math"
   ]
  },
  {
   "cell_type": "code",
   "execution_count": null,
   "id": "52621c07",
   "metadata": {
    "lines_to_next_cell": 1
   },
   "outputs": [],
   "source": [
    "def cosine_similarity(x, y):\n",
    "    if len(x) != len(y):\n",
    "        raise ValueError(\"Both objects must have the same number of attributes\")\n",
    "\n",
    "    dot_product = sum(a * b for a, b in zip(x, y))\n",
    "    magnitude_x = math.sqrt(sum(a ** 2 for a in x))\n",
    "    magnitude_y = math.sqrt(sum(b ** 2 for b in y))\n",
    "\n",
    "    similarity = dot_product / (magnitude_x * magnitude_y)\n",
    "    return similarity"
   ]
  },
  {
   "cell_type": "code",
   "execution_count": null,
   "id": "6aa6d751",
   "metadata": {},
   "outputs": [],
   "source": [
    "# Example usage\n",
    "obj1 = [0, 3, 4, 5]\n",
    "obj2 = [7, 6, 3, -1]"
   ]
  },
  {
   "cell_type": "code",
   "execution_count": null,
   "id": "dc655556",
   "metadata": {},
   "outputs": [],
   "source": [
    "similarity = cosine_similarity(obj1, obj2)\n",
    "print(f\"The cosine similarity between obj1 and obj2 is: {similarity}\")"
   ]
  }
 ],
 "metadata": {
  "jupytext": {
   "cell_metadata_filter": "-all",
   "main_language": "python",
   "notebook_metadata_filter": "-all"
  }
 },
 "nbformat": 4,
 "nbformat_minor": 5
}
