{
 "cells": [
  {
   "cell_type": "code",
   "execution_count": null,
   "id": "662bf56c",
   "metadata": {
    "lines_to_next_cell": 1
   },
   "outputs": [],
   "source": [
    "def jaccard_similarity(x, y):\n",
    "    if len(x) != len(y):\n",
    "        raise ValueError(\"Both objects must have the same number of attributes\")\n",
    "\n",
    "    intersection_size = len(set(x).intersection(y))\n",
    "    union_size = len(set(x).union(y))\n",
    "\n",
    "    similarity = intersection_size / union_size if union_size != 0 else 0\n",
    "    return similarity"
   ]
  },
  {
   "cell_type": "code",
   "execution_count": null,
   "id": "565e2461",
   "metadata": {},
   "outputs": [],
   "source": [
    "obj1 = [0, 3, 4, 5]\n",
    "obj2 = [7, 6, 3, -1]"
   ]
  },
  {
   "cell_type": "code",
   "execution_count": null,
   "id": "e0dd59b9",
   "metadata": {},
   "outputs": [],
   "source": [
    "similarity = jaccard_similarity(obj1, obj2)\n",
    "print(f\"The Jaccard similarity between obj1 and obj2 is: {similarity}\")"
   ]
  }
 ],
 "metadata": {
  "jupytext": {
   "cell_metadata_filter": "-all",
   "main_language": "python",
   "notebook_metadata_filter": "-all"
  }
 },
 "nbformat": 4,
 "nbformat_minor": 5
}
